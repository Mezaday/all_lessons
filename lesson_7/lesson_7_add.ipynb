{
 "cells": [
  {
   "cell_type": "code",
   "execution_count": 1,
   "metadata": {},
   "outputs": [],
   "source": [
    "import requests\n",
    "import pandas as pd\n",
    "import seaborn as sns\n",
    "import matplotlib.pyplot as plt"
   ]
  },
  {
   "cell_type": "code",
   "execution_count": 153,
   "metadata": {},
   "outputs": [],
   "source": [
    "url = 'https://collectionapi.metmuseum.org/public/collection/v1/search?q='\n",
    "IDs = 'sunflowers'\n",
    "r = requests.get(url+IDs)\n",
    "res = r.json()\n",
    "sunflower_ids = res['objectIDs']"
   ]
  },
  {
   "cell_type": "code",
   "execution_count": 19,
   "metadata": {},
   "outputs": [],
   "source": [
    "r_test = requests.get(f'https://collectionapi.metmuseum.org/public/collection/v1/objects/')\n",
    "obj_test = r_test.json()"
   ]
  },
  {
   "cell_type": "code",
   "execution_count": 196,
   "metadata": {},
   "outputs": [],
   "source": [
    "df = pd.DataFrame()"
   ]
  },
  {
   "cell_type": "code",
   "execution_count": 236,
   "metadata": {},
   "outputs": [],
   "source": [
    "df1 = pd.DataFrame()"
   ]
  },
  {
   "cell_type": "code",
   "execution_count": 212,
   "metadata": {},
   "outputs": [],
   "source": [
    "b = f'https://collectionapi.metmuseum.org/public/collection/v1/objects/'\n",
    "d = '707887'"
   ]
  },
  {
   "cell_type": "code",
   "execution_count": null,
   "metadata": {},
   "outputs": [],
   "source": []
  },
  {
   "cell_type": "code",
   "execution_count": 71,
   "metadata": {},
   "outputs": [],
   "source": [
    "n = requests.get(b + d)\n",
    "f = n.json()"
   ]
  },
  {
   "cell_type": "code",
   "execution_count": null,
   "metadata": {},
   "outputs": [],
   "source": []
  },
  {
   "cell_type": "code",
   "execution_count": 105,
   "metadata": {},
   "outputs": [],
   "source": [
    "cf = pd.DataFrame.from_dict(pd.json_normalize(c), orient='columns')"
   ]
  },
  {
   "cell_type": "code",
   "execution_count": 106,
   "metadata": {},
   "outputs": [],
   "source": [
    "cd = pd.DataFrame.from_dict(pd.json_normalize(f), orient='columns')"
   ]
  },
  {
   "cell_type": "code",
   "execution_count": 107,
   "metadata": {},
   "outputs": [],
   "source": [
    "cf = cf.append(cd)"
   ]
  },
  {
   "cell_type": "code",
   "execution_count": null,
   "metadata": {},
   "outputs": [],
   "source": []
  },
  {
   "cell_type": "code",
   "execution_count": 197,
   "metadata": {},
   "outputs": [],
   "source": [
    "for i in sunflower_ids:\n",
    "    n = requests.get(b + str(i))\n",
    "    f = n.json()\n",
    "    cd = pd.DataFrame.from_dict(pd.json_normalize(f), orient='columns')\n",
    "    df = df.append(cd)"
   ]
  },
  {
   "cell_type": "code",
   "execution_count": 199,
   "metadata": {},
   "outputs": [],
   "source": [
    "df = df[['objectID', 'title', 'artistDisplayName', 'department', 'objectBeginDate', 'objectEndDate', 'period', 'objectName', 'culture']]"
   ]
  },
  {
   "cell_type": "code",
   "execution_count": 200,
   "metadata": {},
   "outputs": [
    {
     "data": {
      "text/html": [
       "<div>\n",
       "<style scoped>\n",
       "    .dataframe tbody tr th:only-of-type {\n",
       "        vertical-align: middle;\n",
       "    }\n",
       "\n",
       "    .dataframe tbody tr th {\n",
       "        vertical-align: top;\n",
       "    }\n",
       "\n",
       "    .dataframe thead th {\n",
       "        text-align: right;\n",
       "    }\n",
       "</style>\n",
       "<table border=\"1\" class=\"dataframe\">\n",
       "  <thead>\n",
       "    <tr style=\"text-align: right;\">\n",
       "      <th></th>\n",
       "      <th>objectID</th>\n",
       "      <th>title</th>\n",
       "      <th>artistDisplayName</th>\n",
       "      <th>department</th>\n",
       "      <th>objectBeginDate</th>\n",
       "      <th>objectEndDate</th>\n",
       "      <th>period</th>\n",
       "      <th>objectName</th>\n",
       "      <th>culture</th>\n",
       "    </tr>\n",
       "  </thead>\n",
       "  <tbody>\n",
       "    <tr>\n",
       "      <th>0</th>\n",
       "      <td>436524.0</td>\n",
       "      <td>Sunflowers</td>\n",
       "      <td>Vincent van Gogh</td>\n",
       "      <td>European Paintings</td>\n",
       "      <td>1887.0</td>\n",
       "      <td>1887.0</td>\n",
       "      <td></td>\n",
       "      <td>Painting</td>\n",
       "      <td></td>\n",
       "    </tr>\n",
       "    <tr>\n",
       "      <th>0</th>\n",
       "      <td>484935.0</td>\n",
       "      <td>Sunflowers</td>\n",
       "      <td>Edward McKnight Kauffer</td>\n",
       "      <td>Modern and Contemporary Art</td>\n",
       "      <td>1921.0</td>\n",
       "      <td>1921.0</td>\n",
       "      <td></td>\n",
       "      <td>Painting</td>\n",
       "      <td></td>\n",
       "    </tr>\n",
       "    <tr>\n",
       "      <th>0</th>\n",
       "      <td>437112.0</td>\n",
       "      <td>Bouquet of Sunflowers</td>\n",
       "      <td>Claude Monet</td>\n",
       "      <td>European Paintings</td>\n",
       "      <td>1881.0</td>\n",
       "      <td>1881.0</td>\n",
       "      <td></td>\n",
       "      <td>Painting</td>\n",
       "      <td></td>\n",
       "    </tr>\n",
       "    <tr>\n",
       "      <th>0</th>\n",
       "      <td>210191.0</td>\n",
       "      <td>Vase with sunflowers</td>\n",
       "      <td>Rozenburg Plateelfabriek</td>\n",
       "      <td>European Sculpture and Decorative Arts</td>\n",
       "      <td>1896.0</td>\n",
       "      <td>1896.0</td>\n",
       "      <td></td>\n",
       "      <td>Vase</td>\n",
       "      <td></td>\n",
       "    </tr>\n",
       "    <tr>\n",
       "      <th>0</th>\n",
       "      <td>431264.0</td>\n",
       "      <td>Sunflowers</td>\n",
       "      <td>Lily Converse</td>\n",
       "      <td>Drawings and Prints</td>\n",
       "      <td>1941.0</td>\n",
       "      <td>1941.0</td>\n",
       "      <td></td>\n",
       "      <td>Print</td>\n",
       "      <td></td>\n",
       "    </tr>\n",
       "    <tr>\n",
       "      <th>...</th>\n",
       "      <td>...</td>\n",
       "      <td>...</td>\n",
       "      <td>...</td>\n",
       "      <td>...</td>\n",
       "      <td>...</td>\n",
       "      <td>...</td>\n",
       "      <td>...</td>\n",
       "      <td>...</td>\n",
       "      <td>...</td>\n",
       "    </tr>\n",
       "    <tr>\n",
       "      <th>0</th>\n",
       "      <td>724844.0</td>\n",
       "      <td>Design for Embroidery with Two Large Garlands ...</td>\n",
       "      <td>Italian School</td>\n",
       "      <td>Drawings and Prints</td>\n",
       "      <td>1845.0</td>\n",
       "      <td>1905.0</td>\n",
       "      <td></td>\n",
       "      <td>Drawing Ornament &amp; Architecture</td>\n",
       "      <td></td>\n",
       "    </tr>\n",
       "    <tr>\n",
       "      <th>0</th>\n",
       "      <td>437980.0</td>\n",
       "      <td>Cypresses</td>\n",
       "      <td>Vincent van Gogh</td>\n",
       "      <td>European Paintings</td>\n",
       "      <td>1889.0</td>\n",
       "      <td>1889.0</td>\n",
       "      <td></td>\n",
       "      <td>Painting</td>\n",
       "      <td></td>\n",
       "    </tr>\n",
       "    <tr>\n",
       "      <th>0</th>\n",
       "      <td>834585.0</td>\n",
       "      <td>A Life in a Year–The Garden–Noon, from \"Pictur...</td>\n",
       "      <td>Arthur Boyd Houghton</td>\n",
       "      <td>Drawings and Prints</td>\n",
       "      <td>1866.0</td>\n",
       "      <td>1874.0</td>\n",
       "      <td></td>\n",
       "      <td>Print</td>\n",
       "      <td></td>\n",
       "    </tr>\n",
       "    <tr>\n",
       "      <th>0</th>\n",
       "      <td>834580.0</td>\n",
       "      <td>A Life in a Year–The Garden–Noon, from \"Pictur...</td>\n",
       "      <td>Arthur Boyd Houghton</td>\n",
       "      <td>Drawings and Prints</td>\n",
       "      <td>1866.0</td>\n",
       "      <td>1874.0</td>\n",
       "      <td></td>\n",
       "      <td>Print</td>\n",
       "      <td></td>\n",
       "    </tr>\n",
       "    <tr>\n",
       "      <th>0</th>\n",
       "      <td>834765.0</td>\n",
       "      <td>A Child's Garden, from \"Picture Poesies\"</td>\n",
       "      <td>Arthur Boyd Houghton</td>\n",
       "      <td>Drawings and Prints</td>\n",
       "      <td>1865.0</td>\n",
       "      <td>1874.0</td>\n",
       "      <td></td>\n",
       "      <td>Print</td>\n",
       "      <td></td>\n",
       "    </tr>\n",
       "  </tbody>\n",
       "</table>\n",
       "<p>87 rows × 9 columns</p>\n",
       "</div>"
      ],
      "text/plain": [
       "    objectID                                              title  \\\n",
       "0   436524.0                                         Sunflowers   \n",
       "0   484935.0                                         Sunflowers   \n",
       "0   437112.0                              Bouquet of Sunflowers   \n",
       "0   210191.0                               Vase with sunflowers   \n",
       "0   431264.0                                         Sunflowers   \n",
       "..       ...                                                ...   \n",
       "0   724844.0  Design for Embroidery with Two Large Garlands ...   \n",
       "0   437980.0                                          Cypresses   \n",
       "0   834585.0  A Life in a Year–The Garden–Noon, from \"Pictur...   \n",
       "0   834580.0  A Life in a Year–The Garden–Noon, from \"Pictur...   \n",
       "0   834765.0           A Child's Garden, from \"Picture Poesies\"   \n",
       "\n",
       "           artistDisplayName                              department  \\\n",
       "0           Vincent van Gogh                      European Paintings   \n",
       "0    Edward McKnight Kauffer             Modern and Contemporary Art   \n",
       "0               Claude Monet                      European Paintings   \n",
       "0   Rozenburg Plateelfabriek  European Sculpture and Decorative Arts   \n",
       "0              Lily Converse                     Drawings and Prints   \n",
       "..                       ...                                     ...   \n",
       "0             Italian School                     Drawings and Prints   \n",
       "0           Vincent van Gogh                      European Paintings   \n",
       "0       Arthur Boyd Houghton                     Drawings and Prints   \n",
       "0       Arthur Boyd Houghton                     Drawings and Prints   \n",
       "0       Arthur Boyd Houghton                     Drawings and Prints   \n",
       "\n",
       "    objectBeginDate  objectEndDate period                       objectName  \\\n",
       "0            1887.0         1887.0                                Painting   \n",
       "0            1921.0         1921.0                                Painting   \n",
       "0            1881.0         1881.0                                Painting   \n",
       "0            1896.0         1896.0                                    Vase   \n",
       "0            1941.0         1941.0                                   Print   \n",
       "..              ...            ...    ...                              ...   \n",
       "0            1845.0         1905.0         Drawing Ornament & Architecture   \n",
       "0            1889.0         1889.0                                Painting   \n",
       "0            1866.0         1874.0                                   Print   \n",
       "0            1866.0         1874.0                                   Print   \n",
       "0            1865.0         1874.0                                   Print   \n",
       "\n",
       "   culture  \n",
       "0           \n",
       "0           \n",
       "0           \n",
       "0           \n",
       "0           \n",
       "..     ...  \n",
       "0           \n",
       "0           \n",
       "0           \n",
       "0           \n",
       "0           \n",
       "\n",
       "[87 rows x 9 columns]"
      ]
     },
     "execution_count": 200,
     "metadata": {},
     "output_type": "execute_result"
    }
   ],
   "source": [
    "df"
   ]
  },
  {
   "cell_type": "code",
   "execution_count": 202,
   "metadata": {},
   "outputs": [
    {
     "data": {
      "text/html": [
       "<div>\n",
       "<style scoped>\n",
       "    .dataframe tbody tr th:only-of-type {\n",
       "        vertical-align: middle;\n",
       "    }\n",
       "\n",
       "    .dataframe tbody tr th {\n",
       "        vertical-align: top;\n",
       "    }\n",
       "\n",
       "    .dataframe thead th {\n",
       "        text-align: right;\n",
       "    }\n",
       "</style>\n",
       "<table border=\"1\" class=\"dataframe\">\n",
       "  <thead>\n",
       "    <tr style=\"text-align: right;\">\n",
       "      <th></th>\n",
       "      <th>objectID</th>\n",
       "      <th>title</th>\n",
       "      <th>artistDisplayName</th>\n",
       "      <th>department</th>\n",
       "      <th>objectBeginDate</th>\n",
       "      <th>objectEndDate</th>\n",
       "      <th>period</th>\n",
       "      <th>objectName</th>\n",
       "      <th>culture</th>\n",
       "    </tr>\n",
       "  </thead>\n",
       "  <tbody>\n",
       "    <tr>\n",
       "      <th>0</th>\n",
       "      <td>57922.0</td>\n",
       "      <td>Incense box</td>\n",
       "      <td></td>\n",
       "      <td>Asian Art</td>\n",
       "      <td>1700.0</td>\n",
       "      <td>1799.0</td>\n",
       "      <td>Edo period (1615–1868)</td>\n",
       "      <td>Incense box</td>\n",
       "      <td>Japan</td>\n",
       "    </tr>\n",
       "  </tbody>\n",
       "</table>\n",
       "</div>"
      ],
      "text/plain": [
       "   objectID        title artistDisplayName department  objectBeginDate  \\\n",
       "0   57922.0  Incense box                    Asian Art           1700.0   \n",
       "\n",
       "   objectEndDate                  period   objectName culture  \n",
       "0         1799.0  Edo period (1615–1868)  Incense box   Japan  "
      ]
     },
     "execution_count": 202,
     "metadata": {},
     "output_type": "execute_result"
    }
   ],
   "source": [
    "df.query(\"culture == 'Japan'\")"
   ]
  },
  {
   "cell_type": "code",
   "execution_count": 203,
   "metadata": {},
   "outputs": [],
   "source": [
    "r = requests.get('https://collectionapi.metmuseum.org/public/collection/v1/search?departmentId=6&q=cat')\n",
    "cats = r.json()"
   ]
  },
  {
   "cell_type": "code",
   "execution_count": 229,
   "metadata": {},
   "outputs": [],
   "source": [
    "cat_ids = cats['objectIDs']"
   ]
  },
  {
   "cell_type": "code",
   "execution_count": 237,
   "metadata": {},
   "outputs": [],
   "source": [
    "e = 0"
   ]
  },
  {
   "cell_type": "code",
   "execution_count": null,
   "metadata": {},
   "outputs": [],
   "source": []
  },
  {
   "cell_type": "code",
   "execution_count": 238,
   "metadata": {},
   "outputs": [],
   "source": [
    "for i in cat_ids:\n",
    "    if e != 1000:\n",
    "        n = requests.get(b + str(i))\n",
    "        f = n.json()\n",
    "        cf = pd.DataFrame.from_dict(pd.json_normalize(f), orient='columns')\n",
    "        df1 = df1.append(cf)\n",
    "        e = e + 1\n",
    "        "
   ]
  },
  {
   "cell_type": "code",
   "execution_count": 239,
   "metadata": {},
   "outputs": [
    {
     "data": {
      "text/plain": [
       "Edo period (1615–1868)                                             444\n",
       "                                                                   108\n",
       "Qing dynasty (1644–1911)                                            62\n",
       "Ming dynasty (1368–1644)                                            36\n",
       "Muromachi period (1392–1573)                                        30\n",
       "                                                                  ... \n",
       "Momoyama (1573–1615) or Edo (1615–1868) period                       1\n",
       "Early Malla period, dated the month of Phalguna (likely) 443 NS      1\n",
       "Sukhothai or Lan Na style                                            1\n",
       "Shang dynasty (ca. 1500–1046 B.C.)                                   1\n",
       "Muromachi (1392–1573)–Edo period (1615–1868)                         1\n",
       "Name: period, Length: 111, dtype: int64"
      ]
     },
     "execution_count": 239,
     "metadata": {},
     "output_type": "execute_result"
    }
   ],
   "source": [
    "df1.period.value_counts()"
   ]
  },
  {
   "cell_type": "code",
   "execution_count": null,
   "metadata": {},
   "outputs": [],
   "source": []
  },
  {
   "cell_type": "code",
   "execution_count": null,
   "metadata": {},
   "outputs": [],
   "source": []
  }
 ],
 "metadata": {
  "kernelspec": {
   "display_name": "Python 3",
   "language": "python",
   "name": "python3"
  },
  "language_info": {
   "codemirror_mode": {
    "name": "ipython",
    "version": 3
   },
   "file_extension": ".py",
   "mimetype": "text/x-python",
   "name": "python",
   "nbconvert_exporter": "python",
   "pygments_lexer": "ipython3",
   "version": "3.7.3"
  }
 },
 "nbformat": 4,
 "nbformat_minor": 4
}
